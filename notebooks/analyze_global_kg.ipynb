{
 "cells": [
  {
   "cell_type": "code",
   "execution_count": 2,
   "metadata": {},
   "outputs": [
    {
     "name": "stdout",
     "output_type": "stream",
     "text": [
      "Triples: 7682\n"
     ]
    }
   ],
   "source": [
    "from rdflib import Graph\n",
    "import pandas as pd\n",
    "\n",
    "g = Graph()\n",
    "g.parse(\"data/ttl/global_kg.ttl\", format=\"turtle\")\n",
    "print(f\"Triples: {len(g)}\")"
   ]
  },
  {
   "cell_type": "code",
   "execution_count": 4,
   "metadata": {},
   "outputs": [
    {
     "name": "stdout",
     "output_type": "stream",
     "text": [
      "http://example.org/client_2/patient/8 -- http://example.org/medical#hasOutcome --> http://example.org/outcome/1.0\n",
      "http://example.org/client_1/patient/111 -- http://example.org/medical#DiabetesPedigreeFunction --> 0.431\n",
      "http://example.org/client_1/patient/139 -- http://example.org/medical#Pregnancies --> 2.0\n",
      "http://example.org/client_2/patient/292 -- http://example.org/medical#hasOutcome --> http://example.org/outcome/1.0\n",
      "http://example.org/client_1/patient/337 -- http://example.org/medical#Insulin --> 231.0\n"
     ]
    }
   ],
   "source": [
    "for s, p, o in list(g)[:5]:\n",
    "    print(f\"{s} -- {p} --> {o}\")"
   ]
  },
  {
   "cell_type": "code",
   "execution_count": 5,
   "metadata": {},
   "outputs": [],
   "source": [
    "# 📊 Estrai tutte le informazioni su pazienti in DataFrame\n",
    "query = \"\"\"\n",
    "PREFIX med: <http://example.org/medical#>\n",
    "\n",
    "SELECT ?patient ?feature ?value\n",
    "WHERE {\n",
    "  ?patient a med:Patient .\n",
    "  ?patient ?feature ?value .\n",
    "  FILTER (?feature != rdf:type)\n",
    "}\n",
    "\"\"\""
   ]
  },
  {
   "cell_type": "code",
   "execution_count": 6,
   "metadata": {},
   "outputs": [
    {
     "data": {
      "text/html": [
       "<div>\n",
       "<style scoped>\n",
       "    .dataframe tbody tr th:only-of-type {\n",
       "        vertical-align: middle;\n",
       "    }\n",
       "\n",
       "    .dataframe tbody tr th {\n",
       "        vertical-align: top;\n",
       "    }\n",
       "\n",
       "    .dataframe thead th {\n",
       "        text-align: right;\n",
       "    }\n",
       "</style>\n",
       "<table border=\"1\" class=\"dataframe\">\n",
       "  <thead>\n",
       "    <tr style=\"text-align: right;\">\n",
       "      <th></th>\n",
       "      <th>Patient</th>\n",
       "      <th>Feature</th>\n",
       "      <th>Value</th>\n",
       "    </tr>\n",
       "  </thead>\n",
       "  <tbody>\n",
       "    <tr>\n",
       "      <th>0</th>\n",
       "      <td>http://example.org/client_1/patient/0</td>\n",
       "      <td>Age</td>\n",
       "      <td>50.0</td>\n",
       "    </tr>\n",
       "    <tr>\n",
       "      <th>1</th>\n",
       "      <td>http://example.org/client_1/patient/0</td>\n",
       "      <td>BMI</td>\n",
       "      <td>33.6</td>\n",
       "    </tr>\n",
       "    <tr>\n",
       "      <th>2</th>\n",
       "      <td>http://example.org/client_1/patient/0</td>\n",
       "      <td>BloodPressure</td>\n",
       "      <td>72.0</td>\n",
       "    </tr>\n",
       "    <tr>\n",
       "      <th>3</th>\n",
       "      <td>http://example.org/client_1/patient/0</td>\n",
       "      <td>DiabetesPedigreeFunction</td>\n",
       "      <td>0.627</td>\n",
       "    </tr>\n",
       "    <tr>\n",
       "      <th>4</th>\n",
       "      <td>http://example.org/client_1/patient/0</td>\n",
       "      <td>Glucose</td>\n",
       "      <td>148.0</td>\n",
       "    </tr>\n",
       "  </tbody>\n",
       "</table>\n",
       "</div>"
      ],
      "text/plain": [
       "                                 Patient                   Feature  Value\n",
       "0  http://example.org/client_1/patient/0                       Age   50.0\n",
       "1  http://example.org/client_1/patient/0                       BMI   33.6\n",
       "2  http://example.org/client_1/patient/0             BloodPressure   72.0\n",
       "3  http://example.org/client_1/patient/0  DiabetesPedigreeFunction  0.627\n",
       "4  http://example.org/client_1/patient/0                   Glucose  148.0"
      ]
     },
     "execution_count": 6,
     "metadata": {},
     "output_type": "execute_result"
    }
   ],
   "source": [
    "results = g.query(query)\n",
    "data = []\n",
    "for row in results:\n",
    "    data.append((str(row.patient), str(row.feature).replace(\"http://example.org/medical#\", \"\"), str(row.value)))\n",
    "\n",
    "df = pd.DataFrame(data, columns=[\"Patient\", \"Feature\", \"Value\"])\n",
    "df.head()"
   ]
  },
  {
   "cell_type": "code",
   "execution_count": 7,
   "metadata": {},
   "outputs": [
    {
     "data": {
      "text/plain": [
       "Value\n",
       "http://example.org/outcome/0.0    500\n",
       "http://example.org/outcome/1.0    268\n",
       "Name: count, dtype: int64"
      ]
     },
     "execution_count": 7,
     "metadata": {},
     "output_type": "execute_result"
    }
   ],
   "source": [
    "#Distribuzione degli outcome\n",
    "df[df[\"Feature\"] == \"hasOutcome\"][\"Value\"].value_counts()"
   ]
  },
  {
   "cell_type": "code",
   "execution_count": 8,
   "metadata": {},
   "outputs": [
    {
     "data": {
      "text/html": [
       "<div>\n",
       "<style scoped>\n",
       "    .dataframe tbody tr th:only-of-type {\n",
       "        vertical-align: middle;\n",
       "    }\n",
       "\n",
       "    .dataframe tbody tr th {\n",
       "        vertical-align: top;\n",
       "    }\n",
       "\n",
       "    .dataframe thead th {\n",
       "        text-align: right;\n",
       "    }\n",
       "</style>\n",
       "<table border=\"1\" class=\"dataframe\">\n",
       "  <thead>\n",
       "    <tr style=\"text-align: right;\">\n",
       "      <th>Feature</th>\n",
       "      <th>Patient</th>\n",
       "      <th>Age</th>\n",
       "      <th>BMI</th>\n",
       "      <th>BloodPressure</th>\n",
       "      <th>DiabetesPedigreeFunction</th>\n",
       "      <th>Glucose</th>\n",
       "      <th>Insulin</th>\n",
       "      <th>Pregnancies</th>\n",
       "      <th>SkinThickness</th>\n",
       "      <th>hasOutcome</th>\n",
       "    </tr>\n",
       "  </thead>\n",
       "  <tbody>\n",
       "    <tr>\n",
       "      <th>0</th>\n",
       "      <td>http://example.org/client_1/patient/0</td>\n",
       "      <td>50.0</td>\n",
       "      <td>33.6</td>\n",
       "      <td>72.0</td>\n",
       "      <td>0.627</td>\n",
       "      <td>148.0</td>\n",
       "      <td>0.0</td>\n",
       "      <td>6.0</td>\n",
       "      <td>35.0</td>\n",
       "      <td>http://example.org/outcome/1.0</td>\n",
       "    </tr>\n",
       "    <tr>\n",
       "      <th>1</th>\n",
       "      <td>http://example.org/client_1/patient/1</td>\n",
       "      <td>33.0</td>\n",
       "      <td>43.1</td>\n",
       "      <td>40.0</td>\n",
       "      <td>2.288</td>\n",
       "      <td>137.0</td>\n",
       "      <td>168.0</td>\n",
       "      <td>0.0</td>\n",
       "      <td>35.0</td>\n",
       "      <td>http://example.org/outcome/1.0</td>\n",
       "    </tr>\n",
       "    <tr>\n",
       "      <th>2</th>\n",
       "      <td>http://example.org/client_1/patient/10</td>\n",
       "      <td>31.0</td>\n",
       "      <td>45.8</td>\n",
       "      <td>84.0</td>\n",
       "      <td>0.551</td>\n",
       "      <td>118.0</td>\n",
       "      <td>230.0</td>\n",
       "      <td>0.0</td>\n",
       "      <td>47.0</td>\n",
       "      <td>http://example.org/outcome/1.0</td>\n",
       "    </tr>\n",
       "    <tr>\n",
       "      <th>3</th>\n",
       "      <td>http://example.org/client_1/patient/100</td>\n",
       "      <td>42.0</td>\n",
       "      <td>24.4</td>\n",
       "      <td>55.0</td>\n",
       "      <td>0.136</td>\n",
       "      <td>85.0</td>\n",
       "      <td>0.0</td>\n",
       "      <td>8.0</td>\n",
       "      <td>20.0</td>\n",
       "      <td>http://example.org/outcome/0.0</td>\n",
       "    </tr>\n",
       "    <tr>\n",
       "      <th>4</th>\n",
       "      <td>http://example.org/client_1/patient/101</td>\n",
       "      <td>21.0</td>\n",
       "      <td>24.3</td>\n",
       "      <td>58.0</td>\n",
       "      <td>0.187</td>\n",
       "      <td>105.0</td>\n",
       "      <td>0.0</td>\n",
       "      <td>1.0</td>\n",
       "      <td>0.0</td>\n",
       "      <td>http://example.org/outcome/0.0</td>\n",
       "    </tr>\n",
       "  </tbody>\n",
       "</table>\n",
       "</div>"
      ],
      "text/plain": [
       "Feature                                  Patient   Age   BMI BloodPressure  \\\n",
       "0          http://example.org/client_1/patient/0  50.0  33.6          72.0   \n",
       "1          http://example.org/client_1/patient/1  33.0  43.1          40.0   \n",
       "2         http://example.org/client_1/patient/10  31.0  45.8          84.0   \n",
       "3        http://example.org/client_1/patient/100  42.0  24.4          55.0   \n",
       "4        http://example.org/client_1/patient/101  21.0  24.3          58.0   \n",
       "\n",
       "Feature DiabetesPedigreeFunction Glucose Insulin Pregnancies SkinThickness  \\\n",
       "0                          0.627   148.0     0.0         6.0          35.0   \n",
       "1                          2.288   137.0   168.0         0.0          35.0   \n",
       "2                          0.551   118.0   230.0         0.0          47.0   \n",
       "3                          0.136    85.0     0.0         8.0          20.0   \n",
       "4                          0.187   105.0     0.0         1.0           0.0   \n",
       "\n",
       "Feature                      hasOutcome  \n",
       "0        http://example.org/outcome/1.0  \n",
       "1        http://example.org/outcome/1.0  \n",
       "2        http://example.org/outcome/1.0  \n",
       "3        http://example.org/outcome/0.0  \n",
       "4        http://example.org/outcome/0.0  "
      ]
     },
     "execution_count": 8,
     "metadata": {},
     "output_type": "execute_result"
    }
   ],
   "source": [
    "#Pivot per visualizzare i dati dei pazienti in formato tabellare\n",
    "df_wide = df.pivot(index=\"Patient\", columns=\"Feature\", values=\"Value\").reset_index()\n",
    "df_wide.head()\n"
   ]
  },
  {
   "cell_type": "code",
   "execution_count": 9,
   "metadata": {},
   "outputs": [],
   "source": [
    "#export per analisi avanzate\n",
    "df_wide.to_csv(\"global_kg_as_table.csv\", index=False)\n"
   ]
  },
  {
   "cell_type": "code",
   "execution_count": null,
   "metadata": {},
   "outputs": [],
   "source": []
  }
 ],
 "metadata": {
  "kernelspec": {
   "display_name": "venv",
   "language": "python",
   "name": "python3"
  },
  "language_info": {
   "codemirror_mode": {
    "name": "ipython",
    "version": 3
   },
   "file_extension": ".py",
   "mimetype": "text/x-python",
   "name": "python",
   "nbconvert_exporter": "python",
   "pygments_lexer": "ipython3",
   "version": "3.12.2"
  }
 },
 "nbformat": 4,
 "nbformat_minor": 2
}
